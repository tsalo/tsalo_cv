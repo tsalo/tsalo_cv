{
 "cells": [
  {
   "cell_type": "code",
   "execution_count": 1,
   "metadata": {},
   "outputs": [],
   "source": [
    "import scholarly\n",
    "import pandas as pd"
   ]
  },
  {
   "cell_type": "code",
   "execution_count": 2,
   "metadata": {},
   "outputs": [],
   "source": [
    "search_query = scholarly.search_author('Taylor Salo')\n",
    "author = next(search_query).fill()\n",
    "publication_titles = [pub.bib['title'] for pub in author.publications]\n",
    "df = pd.DataFrame(index=publication_titles, columns=['Citations', 'DOI'])\n",
    "for pub_ in author.publications:\n",
    "    pub = pub_.fill()\n",
    "    title = pub.bib['title']\n",
    "    citedby = [citation.bib['title'] for citation in pub.get_citedby()]\n",
    "    n_citations = len(citedby)\n",
    "    df.loc[title, 'Citations'] = n_citations"
   ]
  },
  {
   "cell_type": "code",
   "execution_count": 3,
   "metadata": {},
   "outputs": [],
   "source": [
    "from Bio import Entrez\n",
    "from Bio import Medline\n",
    "\n",
    "# Extract all publications matching term.\n",
    "Entrez.email = 'tsalo006@fiu.edu'"
   ]
  },
  {
   "cell_type": "code",
   "execution_count": 4,
   "metadata": {},
   "outputs": [
    {
     "name": "stdout",
     "output_type": "stream",
     "text": [
      "The neural circuitry supporting goal maintenance during cognitive control: a comparison of expectancy AX-CPT and dot probe expectancy paradigms.\n",
      "Distinct neural correlates for attention lapses in patients with schizophrenia and healthy participants.\n",
      "Functional network changes and cognitive control in schizophrenia.\n",
      "Study not found: \"Toward a neurobiological basis for understanding learning in University Modeling Instruction physics courses\"\n",
      "Study not found: \"Nipype: a flexible, lightweight and extensible neuroimaging data processing framework in Python. 0.14.0\"\n",
      "Study not found: \"Nipype: a flexible, lightweight and extensible neuroimaging data processing framework in Python. 0.13.1\"\n"
     ]
    }
   ],
   "source": [
    "search = 'Salo[Author] AND {0}'\n",
    "\n",
    "for title in df.index.tolist():\n",
    "    s = search.format(title)\n",
    "    h = Entrez.esearch(db='pubmed', retmax='2', term=s)\n",
    "    result = Entrez.read(h)\n",
    "    if int(result['Count']) > 1:\n",
    "        print('Total number of publications containing {0}: {1}'.format(s, result['Count']))\n",
    "        df.loc[title, 'DOI'] = None\n",
    "    elif int(result['Count']) == 0:\n",
    "        print('Study not found: \"{0}\"'.format(title))\n",
    "        df.loc[title, 'DOI'] = None\n",
    "    else:\n",
    "        h = Entrez.efetch(db='pubmed', id=result['IdList'], rettype='medline', retmode='text')\n",
    "        records = Medline.parse(h)\n",
    "        for record in records:\n",
    "            print(record.get('TI'))\n",
    "            doi = [aid for aid in record.get('AID', []) if aid.endswith(' [doi]')]\n",
    "            if doi:\n",
    "                doi = doi[0].replace(' [doi]', '')\n",
    "            else:\n",
    "                doi = None\n",
    "            df.loc[title, 'DOI'] = doi"
   ]
  },
  {
   "cell_type": "code",
   "execution_count": 5,
   "metadata": {},
   "outputs": [],
   "source": [
    "df.to_csv('my_pubs.csv', index_label='Title')"
   ]
  },
  {
   "cell_type": "code",
   "execution_count": null,
   "metadata": {},
   "outputs": [],
   "source": []
  }
 ],
 "metadata": {
  "anaconda-cloud": {},
  "kernelspec": {
   "display_name": "Python [conda env:python3]",
   "language": "python",
   "name": "conda-env-python3-py"
  },
  "language_info": {
   "codemirror_mode": {
    "name": "ipython",
    "version": 3
   },
   "file_extension": ".py",
   "mimetype": "text/x-python",
   "name": "python",
   "nbconvert_exporter": "python",
   "pygments_lexer": "ipython3",
   "version": "3.6.4"
  }
 },
 "nbformat": 4,
 "nbformat_minor": 1
}
